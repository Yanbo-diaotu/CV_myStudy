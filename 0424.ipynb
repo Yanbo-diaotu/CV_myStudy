{
 "cells": [
  {
   "cell_type": "code",
   "execution_count": 5,
   "metadata": {},
   "outputs": [],
   "source": [
    "import cv2 as cv\n",
    "import os"
   ]
  },
  {
   "cell_type": "code",
   "execution_count": 6,
   "metadata": {},
   "outputs": [],
   "source": [
    "PATH = os.path.split(cv.__file__)[0] + os.sep + \"data\" + os.sep"
   ]
  },
  {
   "cell_type": "code",
   "execution_count": 11,
   "metadata": {},
   "outputs": [],
   "source": [
    "# 实时人脸检测\n",
    "def face_detect():\n",
    "    capture = cv.VideoCapture(0)\n",
    "    while(True):\n",
    "        ret, frame = capture.read()\n",
    "        # 转换为灰度图像\n",
    "        gray = cv.cvtColor(frame, cv.COLOR_BGR2GRAY)\n",
    "        # 调用人脸检测器\n",
    "        face_detector = cv.CascadeClassifier(PATH + \"haarcascade_frontalface_default.xml\")\n",
    "        # 检测人脸\n",
    "        faces = face_detector.detectMultiScale(gray, 1.02, 5)\n",
    "        # 绘制人脸\n",
    "        for x, y, w, h in faces:\n",
    "            cv.rectangle(frame, (x, y), (x+w, y+h), (0, 0, 255), 2)\n",
    "            # 调用眼部检测器\n",
    "            eye_detector = cv.CascadeClassifier(PATH + \"haarcascade_eye.xml\")\n",
    "            # 检测眼部\n",
    "            eyes = eye_detector.detectMultiScale(gray, 1.2, 5)\n",
    "            # 绘制眼部\n",
    "            for x, y, w, h in eyes:\n",
    "                cv.rectangle(frame, (x, y), (x+w, y+h), (0, 255, 0), 2)\n",
    "        # 显示图像\n",
    "        cv.imshow(\"video\", frame)\n",
    "        # 按下q退出\n",
    "        if cv.waitKey(1) == ord('q'):\n",
    "            break"
   ]
  },
  {
   "cell_type": "code",
   "execution_count": null,
   "metadata": {},
   "outputs": [],
   "source": [
    "# 视频人脸检测\n",
    "def face_detect_video(video_path):\n",
    "    capture = cv.VideoCapture(video_path)\n",
    "    face_detector = cv.CascadeClassifier(PATH + \"haarcascade_frontalface_default.xml\")\n",
    "    eye_detector = cv.CascadeClassifier(PATH + \"haarcascade_eye.xml\")\n",
    "    # 循环读取视频帧\n",
    "    while True:\n",
    "        ret, frame = capture.read()\n",
    "        if ret is True:\n",
    "            gray = cv.cvtColor(frame, cv.COLOR_BGR2GRAY)\n",
    "            faces = face_detector.detectMultiScale(gray, 1.3, 5)\n",
    "            for x, y, w, h in faces:\n",
    "                cv.rectangle(frame, (x, y), (x+w, y+h), (0, 0, 255), 2)\n",
    "                eyes = eye_detector.detectMultiScale(gray, 1.2, 5)\n",
    "                for x, y, w, h in eyes:\n",
    "                    cv.rectangle(frame, (x, y), (x+w, y+h), (0, 255, 0), 2)\n",
    "            cv.imshow(\"result\", frame)\n",
    "            if cv.waitKey(1) == ord('q'):\n",
    "                break\n",
    "        else:\n",
    "            break\n",
    "    capture.release()"
   ]
  },
  {
   "cell_type": "code",
   "execution_count": 12,
   "metadata": {},
   "outputs": [],
   "source": [
    "if __name__ == '__main__':\n",
    "    face_detect()\n",
    "    cv.destroyAllWindows()"
   ]
  }
 ],
 "metadata": {
  "kernelspec": {
   "display_name": "CV",
   "language": "python",
   "name": "python3"
  },
  "language_info": {
   "codemirror_mode": {
    "name": "ipython",
    "version": 3
   },
   "file_extension": ".py",
   "mimetype": "text/x-python",
   "name": "python",
   "nbconvert_exporter": "python",
   "pygments_lexer": "ipython3",
   "version": "3.10.9"
  },
  "orig_nbformat": 4
 },
 "nbformat": 4,
 "nbformat_minor": 2
}
