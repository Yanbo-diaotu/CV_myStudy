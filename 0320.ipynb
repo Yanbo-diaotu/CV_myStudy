{
 "cells": [
  {
   "cell_type": "code",
   "execution_count": 1,
   "metadata": {},
   "outputs": [],
   "source": [
    "# 0320 001\n",
    "\n",
    "import cv2 as cv\n",
    "import numpy as np"
   ]
  },
  {
   "cell_type": "code",
   "execution_count": 5,
   "metadata": {},
   "outputs": [],
   "source": [
    "# 获取图片\n",
    "cap = cv.VideoCapture(0)\n",
    "while(cap.isOpened()):\n",
    "    ret, frame = cap.read()\n",
    "    cv.imshow(\"Capture\", frame)\n",
    "    key = cv.waitKey(1)\n",
    "    if key == ord('s'):\n",
    "        cv.imwrite(\"0320.jpg\", frame)\n",
    "    elif key == ord('q'):\n",
    "        break\n",
    "cap.release()\n",
    "cv.destroyAllWindows()"
   ]
  },
  {
   "cell_type": "code",
   "execution_count": 6,
   "metadata": {},
   "outputs": [],
   "source": [
    "# 先验范围mask\n",
    "img1 = cv.imread('0320.jpg')\n",
    "hsv = cv.cvtColor(img1, cv.COLOR_BGR2HSV)\n",
    "min_hsv = np.array([0, 10, 80])\n",
    "max_hsv = np.array([33, 255, 255])\n",
    "mask = cv.inRange(hsv, min_hsv, max_hsv)\n",
    "res = cv.bitwise_and(img1, img1, mask=mask)\n",
    "cv.imshow('img', img1)\n",
    "cv.imshow('mask', mask)\n",
    "cv.imshow('reusult', res)\n",
    "cv.waitKey(0)\n",
    "cv.destroyAllWindows()"
   ]
  },
  {
   "cell_type": "code",
   "execution_count": 7,
   "metadata": {},
   "outputs": [],
   "source": [
    "# 矩形mask 位与\n",
    "img2 = cv.imread('0320.jpg')\n",
    "x, y, z =img2.shape\n",
    "mask = np.zeros((x, y, z), np.uint8)\n",
    "mask[100:400, 200:500] = 255\n",
    "res = cv.bitwise_and(img2, mask)\n",
    "cv.imshow('img', img2)\n",
    "cv.imshow('mask', mask)\n",
    "cv.imshow('reusult', res)\n",
    "cv.waitKey(0)\n",
    "cv.destroyAllWindows()"
   ]
  },
  {
   "cell_type": "code",
   "execution_count": 7,
   "metadata": {},
   "outputs": [],
   "source": [
    "# 矩形mask 乘法\n",
    "img3 = cv.imread('0320.jpg')\n",
    "x, y, z =img3.shape\n",
    "mask = np.zeros((x, y, z), np.uint8)\n",
    "mask[200:300, 50:550] = 1\n",
    "res = img3*mask\n",
    "cv.imshow('img', img3)\n",
    "cv.imshow('mask', mask*255)\n",
    "cv.imshow('reusult', res)\n",
    "cv.waitKey(0)\n",
    "cv.destroyAllWindows()"
   ]
  },
  {
   "cell_type": "code",
   "execution_count": 9,
   "metadata": {},
   "outputs": [],
   "source": [
    "# 二值化图像后作为mask\n",
    "img4 = cv.imread('0320.jpg')\n",
    "x, y, z =img4.shape\n",
    "img4_gray = cv.cvtColor(img4, cv.COLOR_BGR2GRAY)\n",
    "ret, mask = cv.threshold(img4_gray, 130, 255, cv.THRESH_BINARY)\n",
    "mask_inv = cv.bitwise_not(mask)\n",
    "res1 = cv.bitwise_and(img4, img4, mask=mask)\n",
    "res2 = cv.bitwise_and(img4, img4, mask=mask_inv)\n",
    "cv.imshow('img', img4)\n",
    "cv.imshow('mask', mask)\n",
    "cv.imshow('mask_inv', mask_inv)\n",
    "cv.imshow('reusult1', res1)\n",
    "cv.imshow('reusult2', res2)\n",
    "cv.waitKey(0)\n",
    "cv.destroyAllWindows()"
   ]
  }
 ],
 "metadata": {
  "kernelspec": {
   "display_name": "CV",
   "language": "python",
   "name": "python3"
  },
  "language_info": {
   "codemirror_mode": {
    "name": "ipython",
    "version": 3
   },
   "file_extension": ".py",
   "mimetype": "text/x-python",
   "name": "python",
   "nbconvert_exporter": "python",
   "pygments_lexer": "ipython3",
   "version": "3.10.9"
  },
  "orig_nbformat": 4
 },
 "nbformat": 4,
 "nbformat_minor": 2
}
